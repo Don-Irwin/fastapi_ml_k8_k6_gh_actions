{
 "cells": [
  {
   "cell_type": "code",
   "execution_count": 1,
   "id": "82090b50",
   "metadata": {},
   "outputs": [],
   "source": [
    "import warnings\n",
    "warnings.filterwarnings('ignore')\n",
    "import os\n",
    "import sys\n",
    "import json\n",
    "from datetime import datetime\n",
    "from os import system, name\n",
    "from time import sleep\n",
    "import copy\n",
    "import threading\n",
    "import imp\n",
    "import numpy as np\n",
    "import altair as alt\n",
    "import matplotlib.pyplot as plt\n",
    "import matplotlib.dates as mdates\n",
    "import pandas as pd\n",
    "import pandasql as psql\n",
    "from  libraries.utility import Utility\n",
    "\n",
    "from libraries.data_objects import data_objects\n",
    "#https://www.kaggle.com/datasets/camnugent/california-housing-feature-engineering?resource=download\n",
    "#The goal of this is to \n",
    "#consume the ML model based on this example\n",
    "#https://inria.github.io/scikit-learn-mooc/python_scripts/datasets_california_housing.html"
   ]
  },
  {
   "cell_type": "code",
   "execution_count": 2,
   "id": "bed739d4",
   "metadata": {},
   "outputs": [],
   "source": [
    "mdo = data_objects()"
   ]
  },
  {
   "cell_type": "code",
   "execution_count": 3,
   "id": "12dc5d8b",
   "metadata": {},
   "outputs": [],
   "source": [
    "df=mdo.ca_city_lat_long_df()"
   ]
  },
  {
   "cell_type": "code",
   "execution_count": 4,
   "id": "39bda8d3",
   "metadata": {
    "scrolled": true
   },
   "outputs": [
    {
     "data": {
      "text/html": [
       "<div>\n",
       "<style scoped>\n",
       "    .dataframe tbody tr th:only-of-type {\n",
       "        vertical-align: middle;\n",
       "    }\n",
       "\n",
       "    .dataframe tbody tr th {\n",
       "        vertical-align: top;\n",
       "    }\n",
       "\n",
       "    .dataframe thead th {\n",
       "        text-align: right;\n",
       "    }\n",
       "</style>\n",
       "<table border=\"1\" class=\"dataframe\">\n",
       "  <thead>\n",
       "    <tr style=\"text-align: right;\">\n",
       "      <th></th>\n",
       "      <th>city</th>\n",
       "      <th>Latitude</th>\n",
       "      <th>Longitude</th>\n",
       "    </tr>\n",
       "  </thead>\n",
       "  <tbody>\n",
       "    <tr>\n",
       "      <th>0</th>\n",
       "      <td>Adelanto</td>\n",
       "      <td>34.582769</td>\n",
       "      <td>-117.409214</td>\n",
       "    </tr>\n",
       "    <tr>\n",
       "      <th>1</th>\n",
       "      <td>Agoura Hills</td>\n",
       "      <td>34.153339</td>\n",
       "      <td>-118.761675</td>\n",
       "    </tr>\n",
       "    <tr>\n",
       "      <th>2</th>\n",
       "      <td>Alameda</td>\n",
       "      <td>37.765206</td>\n",
       "      <td>-122.241636</td>\n",
       "    </tr>\n",
       "    <tr>\n",
       "      <th>3</th>\n",
       "      <td>Albany</td>\n",
       "      <td>37.886869</td>\n",
       "      <td>-122.297747</td>\n",
       "    </tr>\n",
       "    <tr>\n",
       "      <th>4</th>\n",
       "      <td>Alhambra</td>\n",
       "      <td>34.095286</td>\n",
       "      <td>-118.127014</td>\n",
       "    </tr>\n",
       "  </tbody>\n",
       "</table>\n",
       "</div>"
      ],
      "text/plain": [
       "           city   Latitude   Longitude\n",
       "0      Adelanto  34.582769 -117.409214\n",
       "1  Agoura Hills  34.153339 -118.761675\n",
       "2       Alameda  37.765206 -122.241636\n",
       "3        Albany  37.886869 -122.297747\n",
       "4      Alhambra  34.095286 -118.127014"
      ]
     },
     "execution_count": 4,
     "metadata": {},
     "output_type": "execute_result"
    }
   ],
   "source": [
    "df.head()"
   ]
  },
  {
   "cell_type": "code",
   "execution_count": 5,
   "id": "55652b3e",
   "metadata": {},
   "outputs": [
    {
     "data": {
      "text/html": [
       "<div>\n",
       "<style scoped>\n",
       "    .dataframe tbody tr th:only-of-type {\n",
       "        vertical-align: middle;\n",
       "    }\n",
       "\n",
       "    .dataframe tbody tr th {\n",
       "        vertical-align: top;\n",
       "    }\n",
       "\n",
       "    .dataframe thead th {\n",
       "        text-align: right;\n",
       "    }\n",
       "</style>\n",
       "<table border=\"1\" class=\"dataframe\">\n",
       "  <thead>\n",
       "    <tr style=\"text-align: right;\">\n",
       "      <th></th>\n",
       "      <th>city</th>\n",
       "      <th>lat_long</th>\n",
       "    </tr>\n",
       "  </thead>\n",
       "  <tbody>\n",
       "    <tr>\n",
       "      <th>0</th>\n",
       "      <td>Adelanto</td>\n",
       "      <td>34.582769,-117.409214</td>\n",
       "    </tr>\n",
       "    <tr>\n",
       "      <th>1</th>\n",
       "      <td>Agoura Hills</td>\n",
       "      <td>34.153339,-118.761675</td>\n",
       "    </tr>\n",
       "    <tr>\n",
       "      <th>2</th>\n",
       "      <td>Alameda</td>\n",
       "      <td>37.765206,-122.241636</td>\n",
       "    </tr>\n",
       "    <tr>\n",
       "      <th>3</th>\n",
       "      <td>Albany</td>\n",
       "      <td>37.886869,-122.297747</td>\n",
       "    </tr>\n",
       "    <tr>\n",
       "      <th>4</th>\n",
       "      <td>Alhambra</td>\n",
       "      <td>34.095286,-118.127014</td>\n",
       "    </tr>\n",
       "  </tbody>\n",
       "</table>\n",
       "</div>"
      ],
      "text/plain": [
       "           city               lat_long\n",
       "0      Adelanto  34.582769,-117.409214\n",
       "1  Agoura Hills  34.153339,-118.761675\n",
       "2       Alameda  37.765206,-122.241636\n",
       "3        Albany  37.886869,-122.297747\n",
       "4      Alhambra  34.095286,-118.127014"
      ]
     },
     "execution_count": 5,
     "metadata": {},
     "output_type": "execute_result"
    }
   ],
   "source": [
    "sql = '''\n",
    "select city, Latitude ||','|| Longitude as lat_long from df\n",
    "'''\n",
    "psql.sqldf(sql).head(5)"
   ]
  },
  {
   "cell_type": "code",
   "execution_count": 6,
   "id": "2ca2ad1b",
   "metadata": {},
   "outputs": [],
   "source": [
    "df=pd.DataFrame(mdo.ca_pop_df())"
   ]
  },
  {
   "cell_type": "code",
   "execution_count": 7,
   "id": "2646b337",
   "metadata": {},
   "outputs": [
    {
     "data": {
      "text/html": [
       "<div>\n",
       "<style scoped>\n",
       "    .dataframe tbody tr th:only-of-type {\n",
       "        vertical-align: middle;\n",
       "    }\n",
       "\n",
       "    .dataframe tbody tr th {\n",
       "        vertical-align: top;\n",
       "    }\n",
       "\n",
       "    .dataframe thead th {\n",
       "        text-align: right;\n",
       "    }\n",
       "</style>\n",
       "<table border=\"1\" class=\"dataframe\">\n",
       "  <thead>\n",
       "    <tr style=\"text-align: right;\">\n",
       "      <th></th>\n",
       "      <th>population</th>\n",
       "    </tr>\n",
       "  </thead>\n",
       "  <tbody>\n",
       "    <tr>\n",
       "      <th>0</th>\n",
       "      <td>83089</td>\n",
       "    </tr>\n",
       "  </tbody>\n",
       "</table>\n",
       "</div>"
      ],
      "text/plain": [
       "   population\n",
       "0       83089"
      ]
     },
     "execution_count": 7,
     "metadata": {},
     "output_type": "execute_result"
    }
   ],
   "source": [
    "city='Alhambra'\n",
    "my_sql='''\n",
    "select\n",
    "pop_april_2010 as population\n",
    "from df\n",
    "where ltrim(rtrim(lower(City))) = \\'''' + city.strip().lower() + '''\\'\n",
    "'''\n",
    "psql.sqldf(my_sql)"
   ]
  },
  {
   "cell_type": "code",
   "execution_count": 8,
   "id": "de2a7a7c",
   "metadata": {},
   "outputs": [
    {
     "data": {
      "text/html": [
       "<div>\n",
       "<style scoped>\n",
       "    .dataframe tbody tr th:only-of-type {\n",
       "        vertical-align: middle;\n",
       "    }\n",
       "\n",
       "    .dataframe tbody tr th {\n",
       "        vertical-align: top;\n",
       "    }\n",
       "\n",
       "    .dataframe thead th {\n",
       "        text-align: right;\n",
       "    }\n",
       "</style>\n",
       "<table border=\"1\" class=\"dataframe\">\n",
       "  <thead>\n",
       "    <tr style=\"text-align: right;\">\n",
       "      <th></th>\n",
       "      <th>population</th>\n",
       "    </tr>\n",
       "  </thead>\n",
       "  <tbody>\n",
       "    <tr>\n",
       "      <th>0</th>\n",
       "      <td>83089</td>\n",
       "    </tr>\n",
       "  </tbody>\n",
       "</table>\n",
       "</div>"
      ],
      "text/plain": [
       "   population\n",
       "0       83089"
      ]
     },
     "execution_count": 8,
     "metadata": {},
     "output_type": "execute_result"
    }
   ],
   "source": [
    "city='Alhambra'\n",
    "mdo.ca_pop_by_city(city=city)"
   ]
  },
  {
   "cell_type": "code",
   "execution_count": 9,
   "id": "3ea573ab",
   "metadata": {},
   "outputs": [
    {
     "data": {
      "text/plain": [
       "((600, 600),\n",
       " (1200, 1200),\n",
       " (1800, 1800),\n",
       " (2400, 2400),\n",
       " (3000, 3000),\n",
       " (3600, 3600),\n",
       " (4800, 4800),\n",
       " (5400, 5400),\n",
       " (6000, 6000))"
      ]
     },
     "execution_count": 9,
     "metadata": {},
     "output_type": "execute_result"
    }
   ],
   "source": [
    "mdo.bg_pop_tuple()"
   ]
  },
  {
   "cell_type": "code",
   "execution_count": 10,
   "id": "1006f43b",
   "metadata": {
    "scrolled": true
   },
   "outputs": [
    {
     "data": {
      "text/plain": [
       "((2, 2),\n",
       " (4, 4),\n",
       " (6, 6),\n",
       " (8, 8),\n",
       " (10, 10),\n",
       " (12, 12),\n",
       " (14, 14),\n",
       " (16, 16),\n",
       " (18, 18),\n",
       " (20, 20),\n",
       " (22, 22),\n",
       " (24, 24),\n",
       " (26, 26),\n",
       " (28, 28),\n",
       " (30, 30),\n",
       " (32, 32),\n",
       " (34, 34),\n",
       " (36, 36),\n",
       " (38, 38),\n",
       " (40, 40),\n",
       " (42, 42),\n",
       " (44, 44),\n",
       " (46, 46),\n",
       " (48, 48),\n",
       " (50, 50),\n",
       " (60, 60),\n",
       " (70, 70),\n",
       " (80, 80),\n",
       " (90, 90),\n",
       " (100, 100),\n",
       " (120, 120),\n",
       " (140, 140),\n",
       " (160, 160),\n",
       " (180, 180),\n",
       " (200, 200),\n",
       " (240, 240),\n",
       " (280, 280),\n",
       " (320, 320),\n",
       " (350, 350),\n",
       " (400, 400),\n",
       " (450, 450),\n",
       " (500, 500))"
      ]
     },
     "execution_count": 10,
     "metadata": {},
     "output_type": "execute_result"
    }
   ],
   "source": [
    "mdo.hh_income_tuple()"
   ]
  },
  {
   "cell_type": "code",
   "execution_count": 11,
   "id": "f8d54fa6",
   "metadata": {},
   "outputs": [
    {
     "data": {
      "text/plain": [
       "((2, 2),\n",
       " (4, 4),\n",
       " (6, 6),\n",
       " (8, 8),\n",
       " (10, 10),\n",
       " (12, 12),\n",
       " (14, 14),\n",
       " (16, 16),\n",
       " (18, 18),\n",
       " (20, 20),\n",
       " (22, 22),\n",
       " (24, 24),\n",
       " (26, 26),\n",
       " (28, 28),\n",
       " (30, 30),\n",
       " (32, 32),\n",
       " (34, 34),\n",
       " (36, 36),\n",
       " (38, 38),\n",
       " (40, 40),\n",
       " (42, 42),\n",
       " (44, 44),\n",
       " (46, 46),\n",
       " (48, 48),\n",
       " (50, 50),\n",
       " (60, 60),\n",
       " (70, 70),\n",
       " (80, 80),\n",
       " (90, 90),\n",
       " (100, 100),\n",
       " (110, 110),\n",
       " (120, 120),\n",
       " (130, 130),\n",
       " (140, 140),\n",
       " (150, 150))"
      ]
     },
     "execution_count": 11,
     "metadata": {},
     "output_type": "execute_result"
    }
   ],
   "source": [
    "mdo.h_age_tuple()"
   ]
  },
  {
   "cell_type": "code",
   "execution_count": 12,
   "id": "27e76166",
   "metadata": {},
   "outputs": [
    {
     "data": {
      "text/plain": [
       "((1, 1),\n",
       " (2, 2),\n",
       " (3, 3),\n",
       " (4, 4),\n",
       " (5, 5),\n",
       " (6, 6),\n",
       " (7, 7),\n",
       " (8, 8),\n",
       " (9, 9),\n",
       " (10, 10),\n",
       " (11, 11),\n",
       " (12, 12),\n",
       " (13, 13),\n",
       " (14, 14),\n",
       " (15, 15),\n",
       " (16, 16),\n",
       " (17, 17),\n",
       " (18, 18),\n",
       " (19, 19),\n",
       " (20, 20),\n",
       " (21, 21))"
      ]
     },
     "execution_count": 12,
     "metadata": {},
     "output_type": "execute_result"
    }
   ],
   "source": [
    "mdo.avg_beds_tuple()"
   ]
  },
  {
   "cell_type": "code",
   "execution_count": 13,
   "id": "7219d6b9",
   "metadata": {},
   "outputs": [
    {
     "data": {
      "text/plain": [
       "((1, 1),\n",
       " (2, 2),\n",
       " (3, 3),\n",
       " (4, 4),\n",
       " (5, 5),\n",
       " (6, 6),\n",
       " (7, 7),\n",
       " (8, 8),\n",
       " (9, 9),\n",
       " (10, 10),\n",
       " (11, 11),\n",
       " (12, 12),\n",
       " (13, 13),\n",
       " (14, 14),\n",
       " (15, 15),\n",
       " (16, 16),\n",
       " (17, 17),\n",
       " (18, 18),\n",
       " (19, 19),\n",
       " (20, 20),\n",
       " (21, 21))"
      ]
     },
     "execution_count": 13,
     "metadata": {},
     "output_type": "execute_result"
    }
   ],
   "source": [
    "mdo.avg_baths_tuple()"
   ]
  },
  {
   "cell_type": "code",
   "execution_count": 14,
   "id": "d9fc1f9f",
   "metadata": {},
   "outputs": [
    {
     "data": {
      "text/plain": [
       "((1, 1),\n",
       " (2, 2),\n",
       " (3, 3),\n",
       " (4, 4),\n",
       " (5, 5),\n",
       " (6, 6),\n",
       " (7, 7),\n",
       " (8, 8),\n",
       " (9, 9),\n",
       " (10, 10),\n",
       " (11, 11),\n",
       " (12, 12),\n",
       " (13, 13),\n",
       " (14, 14),\n",
       " (15, 15),\n",
       " (16, 16),\n",
       " (17, 17),\n",
       " (18, 18),\n",
       " (19, 19),\n",
       " (20, 20),\n",
       " (21, 21))"
      ]
     },
     "execution_count": 14,
     "metadata": {},
     "output_type": "execute_result"
    }
   ],
   "source": [
    "mdo.avg_occupacy()"
   ]
  }
 ],
 "metadata": {
  "kernelspec": {
   "display_name": "Python 3 (ipykernel)",
   "language": "python",
   "name": "python3"
  },
  "language_info": {
   "codemirror_mode": {
    "name": "ipython",
    "version": 3
   },
   "file_extension": ".py",
   "mimetype": "text/x-python",
   "name": "python",
   "nbconvert_exporter": "python",
   "pygments_lexer": "ipython3",
   "version": "3.10.12"
  }
 },
 "nbformat": 4,
 "nbformat_minor": 5
}
